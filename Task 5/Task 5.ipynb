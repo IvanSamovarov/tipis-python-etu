{
 "cells": [
  {
   "cell_type": "code",
   "execution_count": 1,
   "id": "f97c0e41-d892-4897-a681-d7c886d2e835",
   "metadata": {},
   "outputs": [],
   "source": [
    "import pandas as pd\n",
    "import numpy as np\n",
    "from sklearn.model_selection import train_test_split\n",
    "from sklearn.feature_extraction import DictVectorizer\n",
    "from sklearn.tree import DecisionTreeRegressor\n",
    "from sklearn.ensemble import RandomForestRegressor\n",
    "from sklearn.metrics import mean_squared_error\n",
    "import xgboost as xgb"
   ]
  },
  {
   "cell_type": "code",
   "execution_count": 2,
   "id": "491df38d-3ee8-4b2f-a557-b37afb5ced99",
   "metadata": {},
   "outputs": [],
   "source": [
    "# Загрузка данных\n",
    "exam_data = pd.read_csv('jamb_exam_results.csv')\n",
    "\n",
    "# Приводим имена столбцов к нижнему регистру и заменяем пробелы на подчеркивания\n",
    "exam_data.columns = exam_data.columns.str.lower().str.replace(' ', '_')\n",
    "\n",
    "# Удаляем столбец student_id\n",
    "exam_data = exam_data.drop(columns=['student_id'])\n",
    "\n",
    "# Заполняем пропущенные значения нулями\n",
    "exam_data = exam_data.fillna(0)\n",
    "\n",
    "# Разделяем данные на признаки (X) и целевую переменную (y)\n",
    "X_features = exam_data.drop(columns=['jamb_score'])\n",
    "y_target = exam_data['jamb_score']\n"
   ]
  },
  {
   "cell_type": "code",
   "execution_count": 3,
   "id": "289ec0ba-03f9-498c-b68a-9f34e1d9af44",
   "metadata": {},
   "outputs": [
    {
     "name": "stdout",
     "output_type": "stream",
     "text": [
      "Feature used for the first split: study_hours_per_week\n"
     ]
    }
   ],
   "source": [
    "# Разбиваем данные на обучающую, валидационную и тестовую выборки\n",
    "X_train, X_temp, y_train, y_temp = train_test_split(X_features, y_target, test_size=0.4, random_state=42)\n",
    "X_val, X_test, y_val, y_test = train_test_split(X_temp, y_temp, test_size=0.5, random_state=42)\n",
    "\n",
    "# Преобразуем данные с помощью DictVectorizer\n",
    "vectorizer = DictVectorizer(sparse=True)\n",
    "X_train_transformed = vectorizer.fit_transform(X_train.to_dict(orient='records'))\n",
    "X_val_transformed = vectorizer.transform(X_val.to_dict(orient='records'))\n",
    "X_test_transformed = vectorizer.transform(X_test.to_dict(orient='records'))\n",
    "\n",
    "# Обучаем модель дерева решений\n",
    "tree_model = DecisionTreeRegressor(max_depth=1, random_state=42)\n",
    "tree_model.fit(X_train_transformed, y_train)\n",
    "\n",
    "# Находим признак, использованный для первого разбиения\n",
    "first_split_feature = vectorizer.feature_names_[tree_model.tree_.feature[0]]\n",
    "print(f\"Feature used for the first split: {first_split_feature}\")"
   ]
  },
  {
   "cell_type": "code",
   "execution_count": 4,
   "id": "1cb4e316-d499-4f1b-85a5-9f42043840fb",
   "metadata": {},
   "outputs": [
    {
     "name": "stdout",
     "output_type": "stream",
     "text": [
      "Validation RMSE: 42.173933892868\n"
     ]
    }
   ],
   "source": [
    "# Обучаем модель случайного леса\n",
    "forest_model = RandomForestRegressor(n_estimators=10, random_state=42, n_jobs=-1)\n",
    "forest_model.fit(X_train_transformed, y_train)\n",
    "\n",
    "# Оцениваем модель на валидационных данных\n",
    "y_val_predicted = forest_model.predict(X_val_transformed)\n",
    "rmse_val = np.sqrt(mean_squared_error(y_val, y_val_predicted))\n",
    "print(f\"Validation RMSE: {rmse_val}\")"
   ]
  },
  {
   "cell_type": "code",
   "execution_count": 5,
   "id": "2dd32719-d8b7-4f0f-b0a4-ae2cce138236",
   "metadata": {},
   "outputs": [
    {
     "name": "stdout",
     "output_type": "stream",
     "text": [
      "n_estimators: 10, RMSE: 42.174\n",
      "n_estimators: 20, RMSE: 41.528\n",
      "n_estimators: 30, RMSE: 41.551\n",
      "n_estimators: 40, RMSE: 41.509\n",
      "n_estimators: 50, RMSE: 41.309\n",
      "n_estimators: 60, RMSE: 41.225\n",
      "n_estimators: 70, RMSE: 41.132\n",
      "n_estimators: 80, RMSE: 41.091\n",
      "n_estimators: 90, RMSE: 41.010\n",
      "n_estimators: 100, RMSE: 41.087\n",
      "n_estimators: 110, RMSE: 41.094\n",
      "n_estimators: 120, RMSE: 41.047\n",
      "n_estimators: 130, RMSE: 40.974\n",
      "n_estimators: 140, RMSE: 40.981\n",
      "n_estimators: 150, RMSE: 40.961\n",
      "n_estimators: 160, RMSE: 40.957\n",
      "n_estimators: 170, RMSE: 40.933\n",
      "n_estimators: 180, RMSE: 40.927\n",
      "n_estimators: 190, RMSE: 40.911\n",
      "n_estimators: 200, RMSE: 40.910\n",
      "Best max_depth: 10\n"
     ]
    }
   ],
   "source": [
    "# Поиск оптимального количества деревьев\n",
    "rmse_results = {}\n",
    "for n_trees in range(10, 201, 10):\n",
    "    forest_model = RandomForestRegressor(n_estimators=n_trees, random_state=42, n_jobs=-1)\n",
    "    forest_model.fit(X_train_transformed, y_train)\n",
    "    y_val_predicted = forest_model.predict(X_val_transformed)\n",
    "    rmse_results[n_trees] = np.sqrt(mean_squared_error(y_val, y_val_predicted))\n",
    "\n",
    "# Выводим результаты по количеству деревьев\n",
    "for n_trees, rmse_score in rmse_results.items():\n",
    "    print(f\"n_estimators: {n_trees}, RMSE: {rmse_score:.3f}\")\n",
    "\n",
    "\n",
    "# Находим лучшее значение max_depth\n",
    "max_depth_values = [10, 15, 20, 25]\n",
    "depth_performance = {}\n",
    "\n",
    "for max_depth in max_depth_values:\n",
    "    rmse_scores_list = []\n",
    "    for n_trees in range(10, 201, 10):\n",
    "        forest_model = RandomForestRegressor(n_estimators=n_trees, max_depth=max_depth, random_state=42, n_jobs=-1)\n",
    "        forest_model.fit(X_train_transformed, y_train)\n",
    "        y_val_predicted = forest_model.predict(X_val_transformed)\n",
    "        rmse_scores_list.append(np.sqrt(mean_squared_error(y_val, y_val_predicted)))\n",
    "    depth_performance[max_depth] = np.mean(rmse_scores_list)\n",
    "\n",
    "# Находим значение max_depth с минимальным средним RMSE\n",
    "best_max_depth = min(depth_performance, key=depth_performance.get)\n",
    "print(f\"Best max_depth: {best_max_depth}\")"
   ]
  },
  {
   "cell_type": "code",
   "execution_count": 6,
   "id": "a546126d-56bb-4118-b3cc-3ef048ba74a7",
   "metadata": {},
   "outputs": [
    {
     "name": "stdout",
     "output_type": "stream",
     "text": [
      "Most important feature: study_hours_per_week\n"
     ]
    }
   ],
   "source": [
    "# Обучаем финальную модель случайного леса\n",
    "final_forest_model = RandomForestRegressor(n_estimators=10, max_depth=20, random_state=42, n_jobs=-1)\n",
    "final_forest_model.fit(X_train_transformed, y_train)\n",
    "\n",
    "# Определяем важность признаков\n",
    "feature_importances = final_forest_model.feature_importances_\n",
    "most_important_feature = vectorizer.feature_names_[np.argmax(feature_importances)]\n",
    "print(f\"Most important feature: {most_important_feature}\")\n"
   ]
  },
  {
   "cell_type": "code",
   "execution_count": 7,
   "id": "ef4a81f7-baa5-49f1-bff5-a363e629823b",
   "metadata": {},
   "outputs": [
    {
     "name": "stdout",
     "output_type": "stream",
     "text": [
      "[0]\ttrain-rmse:42.71579\teval-rmse:45.17452\n",
      "[1]\ttrain-rmse:39.82920\teval-rmse:43.33307\n",
      "[2]\ttrain-rmse:37.76334\teval-rmse:42.21338\n",
      "[3]\ttrain-rmse:36.28364\teval-rmse:41.85801\n",
      "[4]\ttrain-rmse:35.07326\teval-rmse:41.33436\n",
      "[5]\ttrain-rmse:34.19555\teval-rmse:41.08693\n",
      "[6]\ttrain-rmse:33.44294\teval-rmse:40.91599\n",
      "[7]\ttrain-rmse:32.67600\teval-rmse:40.88081\n",
      "[8]\ttrain-rmse:32.01974\teval-rmse:40.97827\n",
      "[9]\ttrain-rmse:31.53993\teval-rmse:40.88101\n",
      "[10]\ttrain-rmse:31.06525\teval-rmse:40.93403\n",
      "[11]\ttrain-rmse:30.73302\teval-rmse:40.99632\n",
      "[12]\ttrain-rmse:30.37063\teval-rmse:40.99476\n",
      "[13]\ttrain-rmse:29.88920\teval-rmse:41.01079\n",
      "[14]\ttrain-rmse:29.51041\teval-rmse:40.97999\n",
      "[15]\ttrain-rmse:29.18156\teval-rmse:41.04403\n",
      "[16]\ttrain-rmse:29.07860\teval-rmse:41.05910\n",
      "[17]\ttrain-rmse:28.82466\teval-rmse:41.12942\n",
      "[0]\ttrain-rmse:45.50472\teval-rmse:47.29604\n",
      "[1]\ttrain-rmse:44.14512\teval-rmse:46.35598\n",
      "[2]\ttrain-rmse:42.95150\teval-rmse:45.45687\n",
      "[3]\ttrain-rmse:41.89408\teval-rmse:44.71852\n",
      "[4]\ttrain-rmse:40.93352\teval-rmse:44.07986\n",
      "[5]\ttrain-rmse:40.08378\teval-rmse:43.54894\n",
      "[6]\ttrain-rmse:39.29609\teval-rmse:43.13962\n",
      "[7]\ttrain-rmse:38.62620\teval-rmse:42.72406\n",
      "[8]\ttrain-rmse:37.99421\teval-rmse:42.38822\n",
      "[9]\ttrain-rmse:37.45821\teval-rmse:42.15136\n",
      "[10]\ttrain-rmse:36.87961\teval-rmse:41.89065\n",
      "[11]\ttrain-rmse:36.39186\teval-rmse:41.67045\n",
      "[12]\ttrain-rmse:35.97654\teval-rmse:41.48827\n",
      "[13]\ttrain-rmse:35.58356\teval-rmse:41.32783\n",
      "[14]\ttrain-rmse:35.19909\teval-rmse:41.19746\n",
      "[15]\ttrain-rmse:34.87280\teval-rmse:41.08102\n",
      "[16]\ttrain-rmse:34.49419\teval-rmse:41.02036\n",
      "[17]\ttrain-rmse:34.21047\teval-rmse:40.89152\n",
      "[18]\ttrain-rmse:33.86161\teval-rmse:40.81693\n",
      "[19]\ttrain-rmse:33.54623\teval-rmse:40.73449\n",
      "[20]\ttrain-rmse:33.31510\teval-rmse:40.62967\n",
      "[21]\ttrain-rmse:33.01815\teval-rmse:40.56287\n",
      "[22]\ttrain-rmse:32.72530\teval-rmse:40.44240\n",
      "[23]\ttrain-rmse:32.46554\teval-rmse:40.35823\n",
      "[24]\ttrain-rmse:32.27873\teval-rmse:40.34864\n",
      "[25]\ttrain-rmse:32.07275\teval-rmse:40.36024\n",
      "[26]\ttrain-rmse:31.84770\teval-rmse:40.34598\n",
      "[27]\ttrain-rmse:31.70331\teval-rmse:40.31013\n",
      "[28]\ttrain-rmse:31.55008\teval-rmse:40.34050\n",
      "[29]\ttrain-rmse:31.31432\teval-rmse:40.30854\n",
      "[30]\ttrain-rmse:31.14972\teval-rmse:40.30434\n",
      "[31]\ttrain-rmse:30.96455\teval-rmse:40.30561\n",
      "[32]\ttrain-rmse:30.84593\teval-rmse:40.30932\n",
      "[33]\ttrain-rmse:30.72308\teval-rmse:40.34924\n",
      "[34]\ttrain-rmse:30.59862\teval-rmse:40.33594\n",
      "[35]\ttrain-rmse:30.43686\teval-rmse:40.33099\n",
      "[36]\ttrain-rmse:30.33245\teval-rmse:40.29762\n",
      "[37]\ttrain-rmse:30.18239\teval-rmse:40.33330\n",
      "[38]\ttrain-rmse:30.05187\teval-rmse:40.32002\n",
      "[39]\ttrain-rmse:29.88769\teval-rmse:40.32972\n",
      "[40]\ttrain-rmse:29.75339\teval-rmse:40.34718\n",
      "[41]\ttrain-rmse:29.65207\teval-rmse:40.33684\n",
      "[42]\ttrain-rmse:29.51012\teval-rmse:40.34896\n",
      "[43]\ttrain-rmse:29.36722\teval-rmse:40.38274\n",
      "[44]\ttrain-rmse:29.19285\teval-rmse:40.36011\n",
      "[45]\ttrain-rmse:29.05923\teval-rmse:40.38301\n",
      "[46]\ttrain-rmse:28.91418\teval-rmse:40.38093\n",
      "Best validation RMSE with eta=0.3: 40.88080588164972\n",
      "Best validation RMSE with eta=0.1: 40.29761755584483\n"
     ]
    }
   ],
   "source": [
    "# Создание DMatrix для XGBoost\n",
    "dtrain = xgb.DMatrix(X_train_transformed, label=y_train)\n",
    "dval = xgb.DMatrix(X_val_transformed, label=y_val)\n",
    "\n",
    "# Создаем watchlist\n",
    "watchlist = [(dtrain, 'train'), (dval, 'eval')]\n",
    "\n",
    "# Параметры для XGBoost модели\n",
    "xgb_params = {\n",
    "    'eta': 0.3,\n",
    "    'max_depth': 6,\n",
    "    'min_child_weight': 1,\n",
    "    'objective': 'reg:squarederror',\n",
    "    'nthread': 8,\n",
    "    'seed': 42,\n",
    "    'verbosity': 1\n",
    "}\n",
    "\n",
    "# Обучение XGBoost с eta = 0.3\n",
    "xgb_model_03 = xgb.train(xgb_params, dtrain, num_boost_round=100, evals=watchlist, early_stopping_rounds=10)\n",
    "\n",
    "# Изменяем eta на 0.1 и повторяем обучение\n",
    "xgb_params['eta'] = 0.1\n",
    "xgb_model_01 = xgb.train(xgb_params, dtrain, num_boost_round=100, evals=watchlist, early_stopping_rounds=10)\n",
    "\n",
    "# Выводим RMSE\n",
    "print(f\"Best validation RMSE with eta=0.3: {xgb_model_03.best_score}\")\n",
    "print(f\"Best validation RMSE with eta=0.1: {xgb_model_01.best_score}\")"
   ]
  },
  {
   "cell_type": "code",
   "execution_count": null,
   "id": "5d70c18f-cf1b-4b49-bb8c-ab6c8ab51e54",
   "metadata": {},
   "outputs": [],
   "source": []
  }
 ],
 "metadata": {
  "kernelspec": {
   "display_name": "Python 3 (ipykernel)",
   "language": "python",
   "name": "python3"
  },
  "language_info": {
   "codemirror_mode": {
    "name": "ipython",
    "version": 3
   },
   "file_extension": ".py",
   "mimetype": "text/x-python",
   "name": "python",
   "nbconvert_exporter": "python",
   "pygments_lexer": "ipython3",
   "version": "3.10.8"
  }
 },
 "nbformat": 4,
 "nbformat_minor": 5
}
